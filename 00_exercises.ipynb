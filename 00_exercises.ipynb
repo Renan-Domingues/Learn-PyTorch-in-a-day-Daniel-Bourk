{
  "nbformat": 4,
  "nbformat_minor": 0,
  "metadata": {
    "colab": {
      "provenance": [],
      "gpuType": "T4",
      "authorship_tag": "ABX9TyMprEA5rA0sxuaUNv3pzHyN",
      "include_colab_link": true
    },
    "kernelspec": {
      "name": "python3",
      "display_name": "Python 3"
    },
    "language_info": {
      "name": "python"
    },
    "accelerator": "GPU"
  },
  "cells": [
    {
      "cell_type": "markdown",
      "metadata": {
        "id": "view-in-github",
        "colab_type": "text"
      },
      "source": [
        "<a href=\"https://colab.research.google.com/github/Renan-Domingues/Learn-PyTorch-in-a-day-Daniel-Bourk/blob/main/00_exercises.ipynb\" target=\"_parent\"><img src=\"https://colab.research.google.com/assets/colab-badge.svg\" alt=\"Open In Colab\"/></a>"
      ]
    },
    {
      "cell_type": "markdown",
      "source": [
        "# 1. Documentation reading\n",
        "\n",
        "A big part of deep learning (and learning to code in general) is getting familiar with the documentation of a certain framework you're using. We'll be using the PyTorch documentation a lot throughout the rest of this course. So I'd recommend spending 10-minutes reading the following (it's okay if you don't get some things for now, the focus is not yet full understanding, it's awareness):\n",
        "\n",
        "1. The documentation on torch.Tensor: https://pytorch.org/docs/stable/tensors.html#torch-tensor\n",
        "2. The documentation on torch.cuda: https://pytorch.org/docs/master/notes/cuda.html#cuda-semantics\n"
      ],
      "metadata": {
        "id": "kuFYw2-KkSro"
      }
    },
    {
      "cell_type": "markdown",
      "source": [
        "# 2. Create a random tensor with shape (7, 7)."
      ],
      "metadata": {
        "id": "8XUa4g2vkzov"
      }
    },
    {
      "cell_type": "code",
      "source": [
        "import torch\n",
        "\n",
        "X = torch.rand(7, 7)\n",
        "\n",
        "print(X)"
      ],
      "metadata": {
        "colab": {
          "base_uri": "https://localhost:8080/"
        },
        "id": "YZBkCIjck4bG",
        "outputId": "ffd4b826-56e7-4742-9c9d-b791db0c9a25"
      },
      "execution_count": 2,
      "outputs": [
        {
          "output_type": "stream",
          "name": "stdout",
          "text": [
            "tensor([[0.6056, 0.9435, 0.6844, 0.6094, 0.3766, 0.4023, 0.9807],\n",
            "        [0.4588, 0.3542, 0.4022, 0.8715, 0.0164, 0.8862, 0.7537],\n",
            "        [0.8964, 0.5733, 0.4523, 0.0045, 0.1761, 0.2787, 0.3975],\n",
            "        [0.7459, 0.3777, 0.1982, 0.2559, 0.1557, 0.7410, 0.1623],\n",
            "        [0.5429, 0.1218, 0.0385, 0.7316, 0.8666, 0.4699, 0.5578],\n",
            "        [0.2447, 0.5774, 0.1581, 0.1825, 0.8777, 0.8782, 0.7900],\n",
            "        [0.2484, 0.0936, 0.7916, 0.2173, 0.8033, 0.9722, 0.7782]])\n"
          ]
        }
      ]
    },
    {
      "cell_type": "markdown",
      "source": [
        "# 3. Perform a matrix multiplication on the tensor from 2 with another random tensor with shape (1, 7)\n",
        "(hint: you may have to transpose the second tensor).\n"
      ],
      "metadata": {
        "id": "jvbjA7lKlY9v"
      }
    },
    {
      "cell_type": "code",
      "source": [
        "Y = torch.rand(1, 7)\n",
        "\n",
        "Y = Y.T # Or I could do the transpose in the operation Z = torch.matmul(X, Y.T)\n",
        "\n",
        "Z = torch.matmul(X, Y)\n",
        "\n",
        "print(Z)\n",
        "\n"
      ],
      "metadata": {
        "colab": {
          "base_uri": "https://localhost:8080/"
        },
        "id": "hX6P_tJAleE_",
        "outputId": "0d69477f-8d4a-4e8f-90d9-ffeef9667f4f"
      },
      "execution_count": 3,
      "outputs": [
        {
          "output_type": "stream",
          "name": "stdout",
          "text": [
            "tensor([[2.7770],\n",
            "        [2.1436],\n",
            "        [1.7903],\n",
            "        [1.7359],\n",
            "        [1.9818],\n",
            "        [2.1861],\n",
            "        [2.4499]])\n"
          ]
        }
      ]
    },
    {
      "cell_type": "markdown",
      "source": [
        "\n",
        "# 4. Set the random seed to 0 and do 2 & 3 over again.\n",
        "\n",
        "The output should be:\n",
        "\n",
        "- (tensor([[1.8542],\n",
        "         [1.9611],\n",
        "         [2.2884],\n",
        "         [3.0481],\n",
        "         [1.7067],\n",
        "         [2.5290],\n",
        "         [1.7989]]), torch.Size([7, 1]))\n",
        "\n"
      ],
      "metadata": {
        "id": "-sgtz8oNm6lN"
      }
    },
    {
      "cell_type": "code",
      "source": [
        "torch.manual_seed(0)\n",
        "\n",
        "X = torch.rand(7, 7)\n",
        "\n",
        "Y = torch.rand(1, 7)\n",
        "\n",
        "Z = torch.matmul(X, Y.T)\n",
        "\n",
        "print(Z)\n",
        "\n",
        "'''\n",
        " It's not the same result as the question because Pytorch updated the random\n",
        " seed in the new vesion, but is given the same result every time...\n",
        " that is the goal\n",
        " '''"
      ],
      "metadata": {
        "colab": {
          "base_uri": "https://localhost:8080/",
          "height": 174
        },
        "id": "9O-8HByAnB81",
        "outputId": "44aa6ef5-f279-4649-de4d-0fff12946313"
      },
      "execution_count": 6,
      "outputs": [
        {
          "output_type": "stream",
          "name": "stdout",
          "text": [
            "tensor([[1.8542],\n",
            "        [1.9611],\n",
            "        [2.2884],\n",
            "        [3.0481],\n",
            "        [1.7067],\n",
            "        [2.5290],\n",
            "        [1.7989]])\n"
          ]
        },
        {
          "output_type": "execute_result",
          "data": {
            "text/plain": [
              "\"\\n It's not the same result as the question because Pytorch updated the random\\n seed in the new vesion, but is given the same result every time... \\n that is the goal\\n \""
            ],
            "application/vnd.google.colaboratory.intrinsic+json": {
              "type": "string"
            }
          },
          "metadata": {},
          "execution_count": 6
        }
      ]
    },
    {
      "cell_type": "markdown",
      "source": [
        "\n",
        "# 5.\n",
        "Speaking of random seeds, we saw how to set it with torch.manual_seed() but is there a GPU equivalent? (hint: you'll need to look into the documentation for torch.cuda for this one)\n",
        "\n",
        "- If there is, set the GPU random seed to 1234.\n",
        "\n"
      ],
      "metadata": {
        "id": "i-OPr3SQpmMs"
      }
    },
    {
      "cell_type": "code",
      "source": [
        "torch.cuda.manual_seed(1234)\n"
      ],
      "metadata": {
        "id": "XFvTaytCpEjB"
      },
      "execution_count": 10,
      "outputs": []
    },
    {
      "cell_type": "markdown",
      "source": [
        "# 6.\n",
        "Create two random tensors of shape (2, 3) and send them both to the GPU (you'll need access to a GPU for this). Set torch.manual_seed(1234) when creating the tensors (this doesn't have to be the GPU random seed). The output should be something like:"
      ],
      "metadata": {
        "id": "Q-sD_VFSp4Rx"
      }
    },
    {
      "cell_type": "code",
      "source": [
        "device = \"cuda\" if torch.cuda.is_available() else \"cpu\"\n",
        "torch.manual_seed(1234)\n",
        "\n",
        "X = torch.rand(2, 3) # I could send to device here too: Y = torch.rand(2, 3).to(device)\n",
        "\n",
        "torch.manual_seed(1234) # I put the random seed again, because just work in the next code\n",
        "\n",
        "Y = torch.rand(2, 3) # I could do the same thing in the X matrix here too\n",
        "\n",
        "X = X.to(device)\n",
        "Y = Y.to(device)\n",
        "\n",
        "print(X)\n",
        "print(Y)\n",
        "print(device)"
      ],
      "metadata": {
        "colab": {
          "base_uri": "https://localhost:8080/"
        },
        "id": "PCYpM5GHqJB-",
        "outputId": "9c56a273-0da9-4ca4-b5cc-7c5d0fa0ab90"
      },
      "execution_count": 14,
      "outputs": [
        {
          "output_type": "stream",
          "name": "stdout",
          "text": [
            "tensor([[0.0290, 0.4019, 0.2598],\n",
            "        [0.3666, 0.0583, 0.7006]], device='cuda:0')\n",
            "tensor([[0.0290, 0.4019, 0.2598],\n",
            "        [0.3666, 0.0583, 0.7006]], device='cuda:0')\n",
            "cuda\n"
          ]
        }
      ]
    },
    {
      "cell_type": "markdown",
      "source": [
        "# 7.\n",
        "Perform a matrix multiplication on the tensors you created in 6 (again, you may have to adjust the shapes of one of the tensors)."
      ],
      "metadata": {
        "id": "pue0lxUItHri"
      }
    },
    {
      "cell_type": "code",
      "source": [
        "Z = torch.matmul(X, Y.T)\n",
        "\n",
        "print(Z, Z.shape)"
      ],
      "metadata": {
        "colab": {
          "base_uri": "https://localhost:8080/"
        },
        "id": "c52Koil1tHHO",
        "outputId": "8b025833-4673-4383-c8de-d4e81286f770"
      },
      "execution_count": 16,
      "outputs": [
        {
          "output_type": "stream",
          "name": "stdout",
          "text": [
            "tensor([[0.2299, 0.2161],\n",
            "        [0.2161, 0.6287]], device='cuda:0') torch.Size([2, 2])\n"
          ]
        }
      ]
    },
    {
      "cell_type": "markdown",
      "source": [
        "# 8. Find the maximum and minimum values of the output of 7."
      ],
      "metadata": {
        "id": "QsENMi5atjz5"
      }
    },
    {
      "cell_type": "code",
      "source": [
        "z_max = torch.max(Z)\n",
        "z_min = torch.min(Z)\n",
        "\n",
        "print(f'Maximun Value = {z_max}\\nMinimun value = {z_min}')\n"
      ],
      "metadata": {
        "colab": {
          "base_uri": "https://localhost:8080/"
        },
        "id": "kGqrxDGXtmcY",
        "outputId": "15954daf-eb5e-4728-a6a9-bc96e4c623ff"
      },
      "execution_count": 17,
      "outputs": [
        {
          "output_type": "stream",
          "name": "stdout",
          "text": [
            "Maximun Value = 0.628727912902832\n",
            "Minimun value = 0.21611443161964417\n"
          ]
        }
      ]
    },
    {
      "cell_type": "markdown",
      "source": [
        "# 9. Find the maximum and minimum index values of the output of 7."
      ],
      "metadata": {
        "id": "WOuyOmv1uP-r"
      }
    },
    {
      "cell_type": "code",
      "source": [
        "i_max = torch.argmax(Z)\n",
        "i_min = torch.argmin(Z)\n",
        "\n",
        "print(f'The maximun index valuer is {i_max}\\nThe minimun index value is {i_min}')"
      ],
      "metadata": {
        "colab": {
          "base_uri": "https://localhost:8080/"
        },
        "id": "zsrJK8LiuRhq",
        "outputId": "c79eb322-e1fb-4a53-b07e-1d67e02f4093"
      },
      "execution_count": 18,
      "outputs": [
        {
          "output_type": "stream",
          "name": "stdout",
          "text": [
            "The maximun index valuer is 3\n",
            "The minimun index value is 1\n"
          ]
        }
      ]
    },
    {
      "cell_type": "markdown",
      "source": [
        "# 10.\n",
        "Make a random tensor with shape (1, 1, 1, 10) and then create a new tensor with all the 1 dimensions removed to be left with a tensor of shape (10). Set the seed to 7 when you create it and print out the first tensor and it's shape as well as the second tensor and it's shape."
      ],
      "metadata": {
        "id": "RsRfykbvux10"
      }
    },
    {
      "cell_type": "code",
      "source": [
        "torch.cuda.manual_seed(7)\n",
        "\n",
        "X = torch.rand(1, 1, 1, 10)\n",
        "Y = X.squeeze()\n",
        "\n",
        "print(X, X.shape)\n",
        "print(Y, Y.shape)"
      ],
      "metadata": {
        "colab": {
          "base_uri": "https://localhost:8080/"
        },
        "id": "tvo7kWULu94x",
        "outputId": "f4258e5e-b028-441f-ab97-3e9aa82fbf34"
      },
      "execution_count": 21,
      "outputs": [
        {
          "output_type": "stream",
          "name": "stdout",
          "text": [
            "tensor([[[[0.4517, 0.4757, 0.7842, 0.1525, 0.6662, 0.3343, 0.7893, 0.3216,\n",
            "           0.5247, 0.6688]]]]) torch.Size([1, 1, 1, 10])\n",
            "tensor([0.4517, 0.4757, 0.7842, 0.1525, 0.6662, 0.3343, 0.7893, 0.3216, 0.5247,\n",
            "        0.6688]) torch.Size([10])\n"
          ]
        }
      ]
    }
  ]
}