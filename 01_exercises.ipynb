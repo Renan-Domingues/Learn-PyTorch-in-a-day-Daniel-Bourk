{
  "nbformat": 4,
  "nbformat_minor": 0,
  "metadata": {
    "colab": {
      "provenance": [],
      "gpuType": "T4",
      "authorship_tag": "ABX9TyMQtzDWhP2p+mZ7o3V6fxZZ",
      "include_colab_link": true
    },
    "kernelspec": {
      "name": "python3",
      "display_name": "Python 3"
    },
    "language_info": {
      "name": "python"
    },
    "accelerator": "GPU"
  },
  "cells": [
    {
      "cell_type": "markdown",
      "metadata": {
        "id": "view-in-github",
        "colab_type": "text"
      },
      "source": [
        "<a href=\"https://colab.research.google.com/github/Renan-Domingues/Learn-PyTorch-in-a-day-Daniel-Bourk/blob/main/01_exercises.ipynb\" target=\"_parent\"><img src=\"https://colab.research.google.com/assets/colab-badge.svg\" alt=\"Open In Colab\"/></a>"
      ]
    },
    {
      "cell_type": "markdown",
      "source": [
        "# 01. Create a straight line dataset using the linear regression formula (weight * X + bias).\n",
        "\n",
        "- Set weight=0.3 and bias=0.9 there should be at least 100 datapoints total.\n",
        "- Split the data into 80% training, 20% testing.\n",
        "- Plot the training and testing data so it becomes visual.\n",
        "\n"
      ],
      "metadata": {
        "id": "NvhntPV35Uy0"
      }
    },
    {
      "cell_type": "code",
      "source": [
        "import torch\n",
        "import matplotlib.pyplot as plt\n"
      ],
      "metadata": {
        "id": "K1X-N1vj576Z"
      },
      "execution_count": 3,
      "outputs": []
    },
    {
      "cell_type": "code",
      "source": [
        "weight = 0.3\n",
        "bias = 0.9\n",
        "\n",
        "start = 0\n",
        "step = 0.02\n",
        "end = 2\n",
        "\n",
        "X = torch.arange(start, end, step).unsqueeze(dim=1) # Remember the unsqueeze next time\n",
        "y = weight * X + bias\n",
        "\n",
        "\n",
        "print(f\"Number of X samples: {len(X)}\")\n",
        "print(f\"Number of y samples: {len(y)}\")\n",
        "print(f\"First 10 X & y samples:\\nX: {X[:10]}\\ny: {y[:10]}\")"
      ],
      "metadata": {
        "colab": {
          "base_uri": "https://localhost:8080/"
        },
        "id": "Qq29qGRJ5zRo",
        "outputId": "6e2142c6-86d8-481a-d9ba-0e11e39a7f7a"
      },
      "execution_count": 5,
      "outputs": [
        {
          "output_type": "stream",
          "name": "stdout",
          "text": [
            "Number of X samples: 100\n",
            "Number of y samples: 100\n",
            "First 10 X & y samples:\n",
            "X: tensor([[0.0000],\n",
            "        [0.0200],\n",
            "        [0.0400],\n",
            "        [0.0600],\n",
            "        [0.0800],\n",
            "        [0.1000],\n",
            "        [0.1200],\n",
            "        [0.1400],\n",
            "        [0.1600],\n",
            "        [0.1800]])\n",
            "y: tensor([[0.9000],\n",
            "        [0.9060],\n",
            "        [0.9120],\n",
            "        [0.9180],\n",
            "        [0.9240],\n",
            "        [0.9300],\n",
            "        [0.9360],\n",
            "        [0.9420],\n",
            "        [0.9480],\n",
            "        [0.9540]])\n"
          ]
        }
      ]
    },
    {
      "cell_type": "code",
      "source": [
        "split_data = int(len(X) * 0.8)\n",
        "\n",
        "X_train = X[:split_data]\n",
        "y_train = y[:split_data]\n",
        "\n",
        "X_test = X[split_data:]\n",
        "y_test = y[split_data:]\n",
        "\n",
        "print(f\"X_train: {len(X_train)} y_train: {len(y_train)}\\nX_test: {len(X_test)} y_test: {len(y_test)}\")"
      ],
      "metadata": {
        "colab": {
          "base_uri": "https://localhost:8080/"
        },
        "id": "Se5TaOCl8oLk",
        "outputId": "d7c1b4fd-c522-4bde-ec85-0a9508627cae"
      },
      "execution_count": 6,
      "outputs": [
        {
          "output_type": "stream",
          "name": "stdout",
          "text": [
            "X_train: 80 y_train: 80\n",
            "X_test: 20 y_test: 20\n"
          ]
        }
      ]
    },
    {
      "cell_type": "code",
      "source": [
        "def plot_predictions(train_data = X_train,\n",
        "                    train_labels = y_train,\n",
        "                    test_data = X_test,\n",
        "                    test_labels = y_test,\n",
        "                    predictions=None):\n",
        "  plt.figure(figsize=(10, 7))\n",
        "  plt.scatter(train_data, train_labels, c='b',s = 4, label='Training Data')\n",
        "  plt.scatter(test_data, test_labels, c='g', s=4, label = 'Test Data')\n",
        "\n",
        "  if predictions is not None:\n",
        "    plt.scatter(test_data,predictions,c='g', s=4, label = 'Prediction')\n",
        "  plt.legend(prop = {\"size\": 14})\n",
        "\n",
        "plot_predictions()"
      ],
      "metadata": {
        "colab": {
          "base_uri": "https://localhost:8080/",
          "height": 599
        },
        "id": "W9thV7-a-Qt6",
        "outputId": "438a8fbc-65cc-4251-e325-1e47011f5626"
      },
      "execution_count": 4,
      "outputs": [
        {
          "output_type": "display_data",
          "data": {
            "text/plain": [
              "<Figure size 1000x700 with 1 Axes>"
            ],
            "image/png": "[encoded data removed]"
          },
          "metadata": {}
        }
      ]
    },
    {
      "cell_type": "markdown",
      "source": [
        "# Build a PyTorch model by subclassing ***nn.Module***.\n",
        "\n",
        "\n",
        "- Inside should be a randomly initialized nn.Parameter() with requires_grad=True, one for weights and one for bias.\n",
        "- Implement the forward() method to compute the linear regression function you used to create the dataset in 1.\n",
        "- Once you've constructed the model, make an instance of it and check its state_dict().\n",
        "- Note: If you'd like to use nn.Linear() instead of nn.Parameter() you can.\n"
      ],
      "metadata": {
        "id": "nRnkdRHvATs6"
      }
    },
    {
      "cell_type": "code",
      "source": [
        "from torch import nn\n",
        "\n",
        "# Create PyTorch linear regression model by subclassing nn.Module\n",
        "\n",
        "class LinearRegression(nn.Module):\n",
        "  def __init__(self):\n",
        "    super().__init__()\n",
        "    self.linear1 = nn.Linear(in_features=1, out_features=5)\n",
        "    self.linear2 = nn.Linear(in_features=5, out_features=1)\n",
        "\n",
        "  def forward(self, x):\n",
        "    return self.linear2(self.linear1(x))\n",
        "\n",
        "model = LinearRegression()\n",
        "\n",
        "print(model)\n",
        "print(model.state_dict())\n",
        "\n",
        "\n"
      ],
      "metadata": {
        "colab": {
          "base_uri": "https://localhost:8080/"
        },
        "id": "XUbS1kMkAkS2",
        "outputId": "289c4a7f-20d6-4b02-b493-c531d7db7054"
      },
      "execution_count": 7,
      "outputs": [
        {
          "output_type": "stream",
          "name": "stdout",
          "text": [
            "LinearRegression(\n",
            "  (linear1): Linear(in_features=1, out_features=5, bias=True)\n",
            "  (linear2): Linear(in_features=5, out_features=1, bias=True)\n",
            ")\n",
            "OrderedDict([('linear1.weight', tensor([[ 0.7685],\n",
            "        [ 0.4119],\n",
            "        [ 0.2538],\n",
            "        [-0.4808],\n",
            "        [-0.3069]])), ('linear1.bias', tensor([-0.5446, -0.1854, -0.4499,  0.3909, -0.5426])), ('linear2.weight', tensor([[-0.2353,  0.1352, -0.4365, -0.2260, -0.2409]])), ('linear2.bias', tensor([-0.3957]))])\n"
          ]
        }
      ]
    },
    {
      "cell_type": "code",
      "source": [
        "# Instantiate the model and put it to the target device\n",
        "\n",
        "device = \"cuda\" if torch.cuda.is_available() else \"cpu\"\n",
        "\n",
        "model.to(device)\n"
      ],
      "metadata": {
        "colab": {
          "base_uri": "https://localhost:8080/"
        },
        "id": "AcI7uVu8C5bY",
        "outputId": "0d8f56b0-9c13-4982-d78f-f2bb76ab641a"
      },
      "execution_count": 8,
      "outputs": [
        {
          "output_type": "execute_result",
          "data": {
            "text/plain": [
              "LinearRegression(\n",
              "  (linear1): Linear(in_features=1, out_features=5, bias=True)\n",
              "  (linear2): Linear(in_features=5, out_features=1, bias=True)\n",
              ")"
            ]
          },
          "metadata": {},
          "execution_count": 8
        }
      ]
    },
    {
      "cell_type": "markdown",
      "source": [
        "# 3. Create a loss function and optimizer using nn.L1Loss() and torch.optim.SGD(params, lr) respectively.\n",
        "\n",
        "\n",
        "- Set the learning rate of the optimizer to be 0.01 and the parameters to optimize should be the model parameters from the model you created in 2.\n",
        "- Write a training loop to perform the appropriate training steps for 300 epochs.\n",
        "- The training loop should test the model on the test dataset every 20 epochs.\n"
      ],
      "metadata": {
        "id": "zStWX0sSE2tf"
      }
    },
    {
      "cell_type": "code",
      "source": [
        "loss_fn = nn.L1Loss()\n",
        "optimizer = torch.optim.SGD(params=model.parameters(), lr=0.01)"
      ],
      "metadata": {
        "id": "RjTjSsFVE6zH"
      },
      "execution_count": 9,
      "outputs": []
    },
    {
      "cell_type": "code",
      "source": [
        "epochs = 300\n",
        "\n",
        "X_train  =  X_train.to(device)\n",
        "y_train = y_train.to(device)\n",
        "\n",
        "X_test = X_test.to(device)\n",
        "y_test = y_test.to(device)\n",
        "\n",
        "for epoch in range(epochs):\n",
        "  model.train()\n",
        "  # forward pass\n",
        "  y_pred = model(X_train)\n",
        "  # Calculate the loss\n",
        "  loss = loss_fn(y_pred, y_train)\n",
        "  # Optimizers\n",
        "  optimizer.zero_grad()\n",
        "  loss.backward()\n",
        "  optimizer.step()\n",
        "\n",
        "  # let's test\n",
        "  if epoch % 20 == 0:\n",
        "    model.eval()\n",
        "    with torch.inference_mode():\n",
        "\n",
        "      # forward pass\n",
        "      test_pred = model(X_test)\n",
        "      # calculate the loss\n",
        "      test_loss = loss_fn(test_pred, y_test)\n",
        "\n",
        "      # print out what is happening\n",
        "      print(f'Epoch: {epoch} | Loss: {loss} | Test loss {test_loss}')\n"
      ],
      "metadata": {
        "colab": {
          "base_uri": "https://localhost:8080/"
        },
        "id": "TnfvVS64Fpmt",
        "outputId": "a6f4ff72-426f-4dab-8218-c1c619f0f996"
      },
      "execution_count": 10,
      "outputs": [
        {
          "output_type": "stream",
          "name": "stdout",
          "text": [
            "Epoch: 0 | Loss: 1.232986330986023 | Test loss 1.5574129819869995\n",
            "Epoch: 20 | Loss: 0.7219613790512085 | Test loss 0.9061436653137207\n",
            "Epoch: 40 | Loss: 0.05128813907504082 | Test loss 0.024423515424132347\n",
            "Epoch: 60 | Loss: 0.025473764166235924 | Test loss 0.029368950054049492\n",
            "Epoch: 80 | Loss: 0.021782252937555313 | Test loss 0.03429780155420303\n",
            "Epoch: 100 | Loss: 0.01810315065085888 | Test loss 0.039209384471178055\n",
            "Epoch: 120 | Loss: 0.014435851946473122 | Test loss 0.044104721397161484\n",
            "Epoch: 140 | Loss: 0.010780125856399536 | Test loss 0.048983603715896606\n",
            "Epoch: 160 | Loss: 0.007136406842619181 | Test loss 0.05384616181254387\n",
            "Epoch: 180 | Loss: 0.0060512530617415905 | Test loss 0.04890407994389534\n",
            "Epoch: 200 | Loss: 0.0061869374476373196 | Test loss 0.053759295493364334\n",
            "Epoch: 220 | Loss: 0.006359528284519911 | Test loss 0.05269951373338699\n",
            "Epoch: 240 | Loss: 0.0052589974366128445 | Test loss 0.05362614989280701\n",
            "Epoch: 260 | Loss: 0.007934450171887875 | Test loss 0.048709090799093246\n",
            "Epoch: 280 | Loss: 0.0043120007030665874 | Test loss 0.05355079844594002\n"
          ]
        }
      ]
    },
    {
      "cell_type": "markdown",
      "source": [
        "# 4. Make predictions with the trained model on the test data.\n",
        "- Visualize these predictions against the original training and testing data (note: you may need to make sure the predictions are not on the GPU if you want to use non-CUDA-enabled libraries such as matplotlib to plot)."
      ],
      "metadata": {
        "id": "YxDF6jjcI0JZ"
      }
    },
    {
      "cell_type": "code",
      "source": [
        "model.eval()\n",
        "with torch.inference_mode():\n",
        "  y_pred = model(X_test)\n",
        "\n",
        "print(y_pred)"
      ],
      "metadata": {
        "colab": {
          "base_uri": "https://localhost:8080/"
        },
        "id": "MBKdmUZuJDxb",
        "outputId": "5400ffa8-c9e3-4f9c-979d-e1a505eb04e5"
      },
      "execution_count": 17,
      "outputs": [
        {
          "output_type": "stream",
          "name": "stdout",
          "text": [
            "tensor([[1.3843],\n",
            "        [1.3902],\n",
            "        [1.3962],\n",
            "        [1.4021],\n",
            "        [1.4081],\n",
            "        [1.4140],\n",
            "        [1.4199],\n",
            "        [1.4259],\n",
            "        [1.4318],\n",
            "        [1.4377],\n",
            "        [1.4437],\n",
            "        [1.4496],\n",
            "        [1.4555],\n",
            "        [1.4615],\n",
            "        [1.4674],\n",
            "        [1.4733],\n",
            "        [1.4793],\n",
            "        [1.4852],\n",
            "        [1.4911],\n",
            "        [1.4971]], device='cuda:0')\n"
          ]
        }
      ]
    },
    {
      "cell_type": "markdown",
      "source": [
        "# 5. Save your trained model's state_dict() to file.\n",
        "\n",
        "- Create a new instance of your model class you made in 2. and load in the state_dict() you just saved to it.\n",
        "- Perform predictions on your test data with the loaded model and confirm they match the original model predictions from 4.\n"
      ],
      "metadata": {
        "id": "Nul2nRIBNQYX"
      }
    },
    {
      "cell_type": "code",
      "source": [
        "from pathlib import Path\n",
        "\n",
        "MODEL_PATH = Path('model')\n",
        "MODEL_PATH.mkdir(parents=True, exist_ok=True)\n",
        "\n",
        "MODEL_NAME = \"my_model\"\n",
        "MODEL_SAVE_PATH = MODEL_PATH / MODEL_NAME\n",
        "\n",
        "torch.save(obj=model.state_dict(), f=MODEL_SAVE_PATH)"
      ],
      "metadata": {
        "id": "jn0mFei1Ndb9"
      },
      "execution_count": 12,
      "outputs": []
    },
    {
      "cell_type": "code",
      "source": [
        "loaded_model = LinearRegression()\n",
        "loaded_model.load_state_dict(torch.load(f = MODEL_SAVE_PATH))\n",
        "loaded_model.to(device)"
      ],
      "metadata": {
        "colab": {
          "base_uri": "https://localhost:8080/"
        },
        "id": "7be7Q4XAOfdA",
        "outputId": "176f20b8-5c2e-48ac-8e90-f797e05782e3"
      },
      "execution_count": 13,
      "outputs": [
        {
          "output_type": "execute_result",
          "data": {
            "text/plain": [
              "LinearRegression(\n",
              "  (linear1): Linear(in_features=1, out_features=5, bias=True)\n",
              "  (linear2): Linear(in_features=5, out_features=1, bias=True)\n",
              ")"
            ]
          },
          "metadata": {},
          "execution_count": 13
        }
      ]
    },
    {
      "cell_type": "code",
      "source": [
        "new_y_pred = loaded_model(X_test)\n",
        "\n",
        "new_y_pred == y_pred"
      ],
      "metadata": {
        "colab": {
          "base_uri": "https://localhost:8080/"
        },
        "id": "9ZSgMA3SO6em",
        "outputId": "ec417b21-fccb-4a29-ed28-bee2e4eca2e1"
      },
      "execution_count": 18,
      "outputs": [
        {
          "output_type": "execute_result",
          "data": {
            "text/plain": [
              "tensor([[True],\n",
              "        [True],\n",
              "        [True],\n",
              "        [True],\n",
              "        [True],\n",
              "        [True],\n",
              "        [True],\n",
              "        [True],\n",
              "        [True],\n",
              "        [True],\n",
              "        [True],\n",
              "        [True],\n",
              "        [True],\n",
              "        [True],\n",
              "        [True],\n",
              "        [True],\n",
              "        [True],\n",
              "        [True],\n",
              "        [True],\n",
              "        [True]], device='cuda:0')"
            ]
          },
          "metadata": {},
          "execution_count": 18
        }
      ]
    }
  ]
}