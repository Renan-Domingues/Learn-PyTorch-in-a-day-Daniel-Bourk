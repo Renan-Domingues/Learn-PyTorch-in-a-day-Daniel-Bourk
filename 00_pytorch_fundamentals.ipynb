{
  "nbformat": 4,
  "nbformat_minor": 0,
  "metadata": {
    "colab": {
      "provenance": [],
      "gpuType": "T4",
      "authorship_tag": "ABX9TyNMGqILE8ZgrnFDWiLtNyvt",
      "include_colab_link": true
    },
    "kernelspec": {
      "name": "python3",
      "display_name": "Python 3"
    },
    "language_info": {
      "name": "python"
    },
    "gpuClass": "standard"
  },
  "cells": [
    {
      "cell_type": "markdown",
      "metadata": {
        "id": "view-in-github",
        "colab_type": "text"
      },
      "source": [
        "<a href=\"https://colab.research.google.com/github/Renan-Domingues/Learn-PyTorch-in-a-day-Daniel-Bourk/blob/main/00_pytorch_fundamentals.ipynb\" target=\"_parent\"><img src=\"https://colab.research.google.com/assets/colab-badge.svg\" alt=\"Open In Colab\"/></a>"
      ]
    },
    {
      "cell_type": "code",
      "source": [
        "import torch\n",
        "import pandas as pd\n",
        "import numpy as np\n",
        "import matplotlib.pyplot as plt\n",
        "print(torch.__version__)"
      ],
      "metadata": {
        "colab": {
          "base_uri": "https://localhost:8080/"
        },
        "id": "1yoADUDH5D9a",
        "outputId": "bda56be7-f4ed-43fe-bd83-2fc432f0aa61"
      },
      "execution_count": null,
      "outputs": [
        {
          "output_type": "stream",
          "name": "stdout",
          "text": [
            "2.0.0+cu118\n"
          ]
        }
      ]
    },
    {
      "cell_type": "markdown",
      "source": [],
      "metadata": {
        "id": "ZcqGKsespz-I"
      }
    },
    {
      "cell_type": "markdown",
      "source": [
        "## Introduction to Tensors\n",
        "\n",
        "### Creating tensors"
      ],
      "metadata": {
        "id": "baIkuTxlp2u-"
      }
    },
    {
      "cell_type": "code",
      "source": [
        "scalar = torch.tensor(7)\n",
        "scalar"
      ],
      "metadata": {
        "colab": {
          "base_uri": "https://localhost:8080/"
        },
        "id": "R1WhZtCVOJyd",
        "outputId": "afad4f70-fbb1-464c-b3db-b3b1bfb6ec5c"
      },
      "execution_count": null,
      "outputs": [
        {
          "output_type": "execute_result",
          "data": {
            "text/plain": [
              "tensor(7)"
            ]
          },
          "metadata": {},
          "execution_count": 4
        }
      ]
    },
    {
      "cell_type": "code",
      "source": [
        "TENSOR = torch.tensor([[[1, 2, 3],\n",
        "                        [4, 5, 6],\n",
        "                        [7, 8, 9]]])"
      ],
      "metadata": {
        "id": "yNa0tIJyVDHQ"
      },
      "execution_count": null,
      "outputs": []
    },
    {
      "cell_type": "code",
      "source": [
        "TENSOR.ndim"
      ],
      "metadata": {
        "colab": {
          "base_uri": "https://localhost:8080/"
        },
        "id": "kjdzJW59VZeX",
        "outputId": "4a1996cd-13ee-4552-e7ec-ef628153e518"
      },
      "execution_count": null,
      "outputs": [
        {
          "output_type": "execute_result",
          "data": {
            "text/plain": [
              "3"
            ]
          },
          "metadata": {},
          "execution_count": 4
        }
      ]
    },
    {
      "cell_type": "code",
      "source": [
        "TENSOR[0][0][2]"
      ],
      "metadata": {
        "colab": {
          "base_uri": "https://localhost:8080/"
        },
        "id": "FRSdluQiVfni",
        "outputId": "391bebcd-9721-4419-a7a2-94d37aea2e21"
      },
      "execution_count": null,
      "outputs": [
        {
          "output_type": "execute_result",
          "data": {
            "text/plain": [
              "tensor(3)"
            ]
          },
          "metadata": {},
          "execution_count": 8
        }
      ]
    },
    {
      "cell_type": "code",
      "source": [
        "TENSOR[0][2][0]"
      ],
      "metadata": {
        "colab": {
          "base_uri": "https://localhost:8080/"
        },
        "id": "ZPAbMedsWIf5",
        "outputId": "49e75d64-b163-4c01-8cb3-d737ca7239d7"
      },
      "execution_count": null,
      "outputs": [
        {
          "output_type": "execute_result",
          "data": {
            "text/plain": [
              "tensor(7)"
            ]
          },
          "metadata": {},
          "execution_count": 9
        }
      ]
    },
    {
      "cell_type": "code",
      "source": [
        "TENSOR[0][2][1]"
      ],
      "metadata": {
        "colab": {
          "base_uri": "https://localhost:8080/"
        },
        "id": "riqCX4HqnBzD",
        "outputId": "ce41df42-51c2-4bb4-e3af-9d52df49a365"
      },
      "execution_count": null,
      "outputs": [
        {
          "output_type": "execute_result",
          "data": {
            "text/plain": [
              "tensor(8)"
            ]
          },
          "metadata": {},
          "execution_count": 11
        }
      ]
    },
    {
      "cell_type": "markdown",
      "source": [
        "### Random Tensor\n",
        "\n",
        "Why Random Tensors?\n",
        "\n",
        "the way that many neural networks learn is that they start with tensors full of random numbers and than ajust those random numbers to better represent the data\n",
        "\n",
        "'Start with random numbers -> look at data -> update random numbers -> look at data ->update random numbers'"
      ],
      "metadata": {
        "id": "Qj592ge2qbu9"
      }
    },
    {
      "cell_type": "code",
      "source": [
        "# Create a Random tensor of size (3, 4)\n",
        "\n",
        "random_tensor = torch.rand(3, 4)\n",
        "random_tensor"
      ],
      "metadata": {
        "colab": {
          "base_uri": "https://localhost:8080/"
        },
        "id": "6VJAPS19s0yY",
        "outputId": "e53327c3-a369-45e7-a8ea-8da9e86f79dc"
      },
      "execution_count": null,
      "outputs": [
        {
          "output_type": "execute_result",
          "data": {
            "text/plain": [
              "tensor([[0.4942, 0.9192, 0.7978, 0.6897],\n",
              "        [0.6553, 0.3468, 0.2147, 0.3964],\n",
              "        [0.5199, 0.5758, 0.7587, 0.5338]])"
            ]
          },
          "metadata": {},
          "execution_count": 12
        }
      ]
    },
    {
      "cell_type": "code",
      "source": [
        "random_tensor = torch.rand(4, 5, 8)\n"
      ],
      "metadata": {
        "colab": {
          "base_uri": "https://localhost:8080/"
        },
        "id": "W9ZRWV5TuNLA",
        "outputId": "39c9fa2f-dc2a-4d80-f6f8-643eea37325f"
      },
      "execution_count": null,
      "outputs": [
        {
          "output_type": "execute_result",
          "data": {
            "text/plain": [
              "tensor([[[0.5901, 0.8184, 0.1717, 0.6450, 0.6880, 0.5433, 0.1278, 0.6055],\n",
              "         [0.3312, 0.4683, 0.9799, 0.6230, 0.8623, 0.6945, 0.0715, 0.1341],\n",
              "         [0.3017, 0.0216, 0.7930, 0.4185, 0.1597, 0.6752, 0.5706, 0.0240],\n",
              "         [0.8229, 0.6661, 0.0972, 0.2062, 0.0744, 0.2574, 0.8114, 0.2865],\n",
              "         [0.5292, 0.5640, 0.5882, 0.1479, 0.5587, 0.5569, 0.9494, 0.4603]],\n",
              "\n",
              "        [[0.6832, 0.5900, 0.3022, 0.6621, 0.6821, 0.4532, 0.2518, 0.3229],\n",
              "         [0.9549, 0.6291, 0.1192, 0.3506, 0.6438, 0.8575, 0.0262, 0.8700],\n",
              "         [0.3546, 0.3190, 0.3271, 0.7969, 0.6515, 0.9522, 0.0725, 0.7484],\n",
              "         [0.6242, 0.5942, 0.9591, 0.7381, 0.1513, 0.5557, 0.2264, 0.4891],\n",
              "         [0.6746, 0.1329, 0.6332, 0.4936, 0.1171, 0.7183, 0.5655, 0.3830]],\n",
              "\n",
              "        [[0.8549, 0.2146, 0.2816, 0.2417, 0.2521, 0.1156, 0.3647, 0.3436],\n",
              "         [0.3312, 0.6973, 0.3061, 0.8087, 0.5289, 0.9407, 0.6993, 0.2197],\n",
              "         [0.3338, 0.8433, 0.8282, 0.8756, 0.0871, 0.9524, 0.9761, 0.5096],\n",
              "         [0.4154, 0.4988, 0.6298, 0.7983, 0.5041, 0.6680, 0.9960, 0.8197],\n",
              "         [0.3650, 0.1825, 0.4975, 0.5187, 0.8049, 0.6345, 0.6389, 0.1763]],\n",
              "\n",
              "        [[0.1317, 0.9785, 0.2342, 0.2299, 0.3220, 0.6641, 0.0960, 0.4768],\n",
              "         [0.0814, 0.7762, 0.6398, 0.1439, 0.1238, 0.8595, 0.9282, 0.5014],\n",
              "         [0.1755, 0.7341, 0.2371, 0.2288, 0.2618, 0.9701, 0.6442, 0.4121],\n",
              "         [0.3621, 0.7571, 0.8072, 0.5279, 0.7937, 0.8877, 0.1449, 0.2156],\n",
              "         [0.4313, 0.2746, 0.1879, 0.0755, 0.2366, 0.4152, 0.9510, 0.8843]]])"
            ]
          },
          "metadata": {},
          "execution_count": 16
        }
      ]
    },
    {
      "cell_type": "code",
      "source": [
        "random_tensor[2][4][2]"
      ],
      "metadata": {
        "colab": {
          "base_uri": "https://localhost:8080/"
        },
        "id": "QjY9wm-Cv_dO",
        "outputId": "07288d72-dd10-46d0-a9b3-7dd5fdf9bcfa"
      },
      "execution_count": null,
      "outputs": [
        {
          "output_type": "execute_result",
          "data": {
            "text/plain": [
              "tensor(0.4975)"
            ]
          },
          "metadata": {},
          "execution_count": 18
        }
      ]
    },
    {
      "cell_type": "code",
      "source": [
        "zeros = torch.zeros(4, 4)\n",
        "zeros"
      ],
      "metadata": {
        "colab": {
          "base_uri": "https://localhost:8080/"
        },
        "id": "2hZ0oZa_wmsr",
        "outputId": "5f811173-d8f6-43a7-c43a-c23b0452a005"
      },
      "execution_count": null,
      "outputs": [
        {
          "output_type": "execute_result",
          "data": {
            "text/plain": [
              "tensor([[0., 0., 0., 0.],\n",
              "        [0., 0., 0., 0.],\n",
              "        [0., 0., 0., 0.],\n",
              "        [0., 0., 0., 0.]])"
            ]
          },
          "metadata": {},
          "execution_count": 19
        }
      ]
    },
    {
      "cell_type": "code",
      "source": [],
      "metadata": {
        "id": "HYjR6pSE0KUW"
      },
      "execution_count": null,
      "outputs": []
    },
    {
      "cell_type": "markdown",
      "source": [
        "### Creating a range of tensors and tensors-like"
      ],
      "metadata": {
        "id": "4480p2jr0UCB"
      }
    },
    {
      "cell_type": "code",
      "source": [
        "one_to_ten = torch.arange(1, 11)\n",
        "one_to_ten"
      ],
      "metadata": {
        "colab": {
          "base_uri": "https://localhost:8080/"
        },
        "id": "H2n2ltLc0mCD",
        "outputId": "ca3fd0bc-8ca1-48c9-d161-f34e2bb5924a"
      },
      "execution_count": null,
      "outputs": [
        {
          "output_type": "execute_result",
          "data": {
            "text/plain": [
              "tensor([ 1,  2,  3,  4,  5,  6,  7,  8,  9, 10])"
            ]
          },
          "metadata": {},
          "execution_count": 21
        }
      ]
    },
    {
      "cell_type": "code",
      "source": [
        "zeros = torch.zeros_like(one_to_ten)\n",
        "zeros"
      ],
      "metadata": {
        "colab": {
          "base_uri": "https://localhost:8080/"
        },
        "id": "Afzws_DN0q0Q",
        "outputId": "7627185c-0471-496f-bdba-a4673c4ddfd0"
      },
      "execution_count": null,
      "outputs": [
        {
          "output_type": "execute_result",
          "data": {
            "text/plain": [
              "tensor([0, 0, 0, 0, 0, 0, 0, 0, 0, 0])"
            ]
          },
          "metadata": {},
          "execution_count": 23
        }
      ]
    },
    {
      "cell_type": "code",
      "source": [
        "# float 32 tensor\n",
        "\n",
        "float_32_tensor = torch.tensor([3.0, 6.0, 9.0] dtype=None, device=None, requires_grad=False)"
      ],
      "metadata": {
        "id": "cZZoirHQ1tl7"
      },
      "execution_count": null,
      "outputs": []
    },
    {
      "cell_type": "markdown",
      "source": [
        "\n",
        "### Manipulatin tensors (tensors operentions)"
      ],
      "metadata": {
        "id": "Y_mHEyPZKTk6"
      }
    },
    {
      "cell_type": "code",
      "source": [
        "\n",
        "array = np.arange(1.0, 8.0)\n",
        "tensor = torch.from_numpy(array)\n",
        "\n",
        "array, tensor"
      ],
      "metadata": {
        "id": "rIHq3LvaKZpt",
        "colab": {
          "base_uri": "https://localhost:8080/"
        },
        "outputId": "dd98858a-9d32-44df-ea68-3a44bd4335fc"
      },
      "execution_count": null,
      "outputs": [
        {
          "output_type": "execute_result",
          "data": {
            "text/plain": [
              "(array([1., 2., 3., 4., 5., 6., 7.]),\n",
              " tensor([1., 2., 3., 4., 5., 6., 7.], dtype=torch.float64))"
            ]
          },
          "metadata": {},
          "execution_count": 7
        }
      ]
    },
    {
      "cell_type": "code",
      "source": [
        "RANDOM_SEED = 42\n",
        "torch.manual_seed(RANDOM_SEED)\n",
        "random_tensor_c = torch.rand(3, 4)\n",
        "\n",
        "torch.manual_seed(RANDOM_SEED)\n",
        "random_tensor_d = torch.rand(3, 4)\n",
        "\n",
        "print(random_tensor_c)\n",
        "print(random_tensor_d)\n",
        "print(random_tensor_c == random_tensor_d)"
      ],
      "metadata": {
        "colab": {
          "base_uri": "https://localhost:8080/"
        },
        "id": "JW9fFvleUW4O",
        "outputId": "456dbddd-89eb-4ab9-a012-484176c025b0"
      },
      "execution_count": null,
      "outputs": [
        {
          "output_type": "stream",
          "name": "stdout",
          "text": [
            "tensor([[0.8823, 0.9150, 0.3829, 0.9593],\n",
            "        [0.3904, 0.6009, 0.2566, 0.7936],\n",
            "        [0.9408, 0.1332, 0.9346, 0.5936]])\n",
            "tensor([[0.8823, 0.9150, 0.3829, 0.9593],\n",
            "        [0.3904, 0.6009, 0.2566, 0.7936],\n",
            "        [0.9408, 0.1332, 0.9346, 0.5936]])\n",
            "tensor([[True, True, True, True],\n",
            "        [True, True, True, True],\n",
            "        [True, True, True, True]])\n"
          ]
        }
      ]
    },
    {
      "cell_type": "markdown",
      "source": [],
      "metadata": {
        "id": "Nua52BhRaKqv"
      }
    },
    {
      "cell_type": "code",
      "source": [
        "!nvidia-smi\n"
      ],
      "metadata": {
        "colab": {
          "base_uri": "https://localhost:8080/"
        },
        "id": "UOmIWP5ff6nr",
        "outputId": "e0894435-d65f-45dd-df6c-b3ab5ee87437"
      },
      "execution_count": null,
      "outputs": [
        {
          "output_type": "stream",
          "name": "stdout",
          "text": [
            "Fri May  5 15:20:45 2023       \n",
            "+-----------------------------------------------------------------------------+\n",
            "| NVIDIA-SMI 525.85.12    Driver Version: 525.85.12    CUDA Version: 12.0     |\n",
            "|-------------------------------+----------------------+----------------------+\n",
            "| GPU  Name        Persistence-M| Bus-Id        Disp.A | Volatile Uncorr. ECC |\n",
            "| Fan  Temp  Perf  Pwr:Usage/Cap|         Memory-Usage | GPU-Util  Compute M. |\n",
            "|                               |                      |               MIG M. |\n",
            "|===============================+======================+======================|\n",
            "|   0  Tesla T4            Off  | 00000000:00:04.0 Off |                    0 |\n",
            "| N/A   56C    P8    10W /  70W |      0MiB / 15360MiB |      0%      Default |\n",
            "|                               |                      |                  N/A |\n",
            "+-------------------------------+----------------------+----------------------+\n",
            "                                                                               \n",
            "+-----------------------------------------------------------------------------+\n",
            "| Processes:                                                                  |\n",
            "|  GPU   GI   CI        PID   Type   Process name                  GPU Memory |\n",
            "|        ID   ID                                                   Usage      |\n",
            "|=============================================================================|\n",
            "|  No running processes found                                                 |\n",
            "+-----------------------------------------------------------------------------+\n"
          ]
        }
      ]
    },
    {
      "cell_type": "code",
      "source": [
        "import torch\n",
        "torch.cuda.is_available()"
      ],
      "metadata": {
        "colab": {
          "base_uri": "https://localhost:8080/"
        },
        "id": "K41SH3FJgA_p",
        "outputId": "e95425ae-7079-41a1-c8b5-fba61f4ceb60"
      },
      "execution_count": null,
      "outputs": [
        {
          "output_type": "execute_result",
          "data": {
            "text/plain": [
              "True"
            ]
          },
          "metadata": {},
          "execution_count": 5
        }
      ]
    },
    {
      "cell_type": "code",
      "source": [
        "device = \"cuda\" if torch.cuda.is_available() else \"cpu\"\n",
        "device"
      ],
      "metadata": {
        "colab": {
          "base_uri": "https://localhost:8080/",
          "height": 35
        },
        "id": "CCTHtsNWgiBR",
        "outputId": "ca3c859f-cbea-48d9-8454-0c1fa928bea1"
      },
      "execution_count": null,
      "outputs": [
        {
          "output_type": "execute_result",
          "data": {
            "text/plain": [
              "'cuda'"
            ],
            "application/vnd.google.colaboratory.intrinsic+json": {
              "type": "string"
            }
          },
          "metadata": {},
          "execution_count": 6
        }
      ]
    },
    {
      "cell_type": "code",
      "source": [],
      "metadata": {
        "id": "JtK7EccahKXq"
      },
      "execution_count": null,
      "outputs": []
    }
  ]
}